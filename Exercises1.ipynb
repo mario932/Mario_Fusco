{
 "cells": [
  {
   "cell_type": "markdown",
   "metadata": {},
   "source": [
    "### **Exercise 1:**\n",
    "The Recamán sequence is a famous sequence invented by the Colombian mathematician, Bernardo Recamán Santos. It is defined by the following algorithm, starting at $a_0=0$:\n",
    "\n",
    "$ a_n=a_{n-1}−n$ if $a_{n-1}-n > 0  $ and has not already appeared in the sequence; \n",
    "\n",
    "$ a_n=a_{n−1}+n$ otherwise\n",
    "\n",
    "Write a function that returns the first N elements of this sequence."
   ]
  },
  {
   "cell_type": "code",
   "execution_count": 39,
   "metadata": {},
   "outputs": [
    {
     "name": "stdin",
     "output_type": "stream",
     "text": [
      "Insert the number of elements the sequence:  20\n"
     ]
    },
    {
     "name": "stdout",
     "output_type": "stream",
     "text": [
      "[0, 1, 3, 6, 2, 7, 13, 20, 12, 21, 11, 22, 10, 23, 9, 24, 8, 25, 43, 62]\n"
     ]
    }
   ],
   "source": [
    "def recaman(n):\n",
    "    mylist = [0]\n",
    "    a0 = 0\n",
    "    \n",
    "    for i in range(1, n):\n",
    "       # print(i,a0-i)\n",
    "        if ((a0 -i > 0) and not (a0-i in mylist)): \n",
    "          #  print(i)\n",
    "            mylist.append(a0:=a0-i)\n",
    "        else:\n",
    "            mylist.append(a0:=a0+i)\n",
    "    return mylist\n",
    "        \n",
    "    \n",
    "print(recaman(int(input('Insert the number of elements the sequence: '))))"
   ]
  },
  {
   "cell_type": "code",
   "execution_count": 51,
   "metadata": {},
   "outputs": [
    {
     "name": "stdin",
     "output_type": "stream",
     "text": [
      "Insert the number of elements the sequence:  20\n"
     ]
    },
    {
     "name": "stdout",
     "output_type": "stream",
     "text": [
      "[0, 1, 3, 6, 2, 7, 13, 20, 12, 21, 11, 22, 10, 23, 9, 24, 8, 25, 43, 62]\n"
     ]
    }
   ],
   "source": [
    "def recaman2(n):\n",
    "    set_list = set([0])\n",
    "    mylist = [0]\n",
    "    a0 = 0\n",
    "    \n",
    "    for i in range(1, n):\n",
    "       # print(i,a0-i)\n",
    "        if ((a0 -i > 0) and not (a0-i in set_list)): \n",
    "          #  print(i)\n",
    "            a0=a0-i\n",
    "            set_list.add(a0)\n",
    "            mylist.append(a0)\n",
    "        else:\n",
    "            a0=a0+i\n",
    "            set_list.add(a0)\n",
    "            mylist.append(a0)\n",
    "    return mylist\n",
    "        \n",
    "    \n",
    "print(recaman2(int(input('Insert the number of elements the sequence: '))))"
   ]
  },
  {
   "cell_type": "code",
   "execution_count": 53,
   "metadata": {},
   "outputs": [
    {
     "name": "stdout",
     "output_type": "stream",
     "text": [
      "950 ms ± 14.3 ms per loop (mean ± std. dev. of 7 runs, 1 loop each)\n",
      "3.89 ms ± 25 µs per loop (mean ± std. dev. of 7 runs, 100 loops each)\n"
     ]
    }
   ],
   "source": [
    "%timeit recaman(20000)\n",
    "%timeit recaman2(20000)"
   ]
  },
  {
   "cell_type": "markdown",
   "metadata": {},
   "source": [
    "## 0, 1, 3, 6, 2, 7, 13, 20, 12, 21, 11, 22, 10, 23, "
   ]
  },
  {
   "cell_type": "markdown",
   "metadata": {},
   "source": [
    "### **Exercise 2:**\n",
    "Write a function to solve a quadratic equation."
   ]
  },
  {
   "cell_type": "code",
   "execution_count": 85,
   "metadata": {},
   "outputs": [
    {
     "name": "stdout",
     "output_type": "stream",
     "text": [
      "(-2.0, -1.0)\n"
     ]
    }
   ],
   "source": [
    "import math\n",
    "\n",
    "def solve_quadratic(a, b, c):\n",
    "    # Quadratic equation ax^2 + bx + c = 0\n",
    "    # Calculate the discriminant\n",
    "    delta = (b**2) - (4*a*c)\n",
    "\n",
    "    # Check if the discriminant is non-negative\n",
    "    if delta < 0:\n",
    "        print(\"No solutions\")\n",
    "    else:\n",
    "        sol1 = (-b - math.sqrt(delta)) / (2*a)\n",
    "        sol2 = (-b + math.sqrt(delta)) / (2*a)\n",
    "        return sol1, sol2\n",
    "print(solve_quadratic(2, 6, 4))\n"
   ]
  },
  {
   "cell_type": "markdown",
   "metadata": {},
   "source": [
    "### **Exercise 3**\n",
    "Print the list `mylist` sorted in descending order. The original list should not be modified\n"
   ]
  },
  {
   "cell_type": "code",
   "execution_count": 89,
   "metadata": {},
   "outputs": [
    {
     "name": "stdout",
     "output_type": "stream",
     "text": [
      "[234, 89, 77, 11, 1, 0, -99, -748]\n"
     ]
    }
   ],
   "source": [
    "mylist=[1,-99,89,0,234,77,-748,11]\n",
    "mylist.sort(reverse=True)\n",
    "print(mylist)"
   ]
  },
  {
   "cell_type": "markdown",
   "metadata": {},
   "source": [
    "### **Exercise 4:**\n",
    "Given 2 lists, produce a list containing common items between the two."
   ]
  },
  {
   "cell_type": "code",
   "execution_count": 108,
   "metadata": {},
   "outputs": [
    {
     "name": "stdout",
     "output_type": "stream",
     "text": [
      "[5, 7, 63]\n"
     ]
    }
   ],
   "source": [
    "def common_items(a, b):\n",
    "    common_list = [i for i in a if i in b]\n",
    "    return common_list\n",
    " \n",
    "a = [1, 2, 3, 4, 5, 7, 10, 29, 63]\n",
    "b = [5, 6, 7, 8, 9, 63, 11, 22, 31]\n",
    "\n",
    "print(common_items(a, b))\n",
    "     "
   ]
  },
  {
   "cell_type": "code",
   "execution_count": 109,
   "metadata": {},
   "outputs": [
    {
     "data": {
      "text/plain": [
       "[63, 5, 7]"
      ]
     },
     "execution_count": 109,
     "metadata": {},
     "output_type": "execute_result"
    }
   ],
   "source": [
    "a = [1, 2, 3, 4, 5, 7, 10, 29, 63]\n",
    "b = [5, 6, 7, 8, 9, 63, 11, 22, 31]\n",
    "\n",
    "list(set(a)&set(b)) "
   ]
  },
  {
   "cell_type": "markdown",
   "metadata": {},
   "source": [
    "### **Exercise 5:**\n",
    "Create a function that returns a list of all pairs of factors (as tuples) of a given number using list comprehension."
   ]
  },
  {
   "cell_type": "code",
   "execution_count": 124,
   "metadata": {},
   "outputs": [
    {
     "name": "stdout",
     "output_type": "stream",
     "text": [
      "[(2, 25), (5, 10), (10, 5), (25, 2)]\n"
     ]
    }
   ],
   "source": [
    "n=50\n",
    "print( [(x,y) for x in range(n) for y in range(n) if x*y==n] )\n"
   ]
  },
  {
   "cell_type": "markdown",
   "metadata": {},
   "source": [
    "### **Exercise 6:**\n",
    "Create a list of all numbers divisible by 3 and smaller than 1000 in 4 different ways:\n",
    " \n",
    " - naive way where you just create a list and append data in a loop\n",
    " - using list comprehension\n",
    " - slicing an existing list\n",
    " - directly with `range()`\n",
    "\n",
    "Time all of them."
   ]
  },
  {
   "cell_type": "markdown",
   "metadata": {},
   "source": [
    "### **Exercise 7:**\n",
    "Write a function to check if a string (containing spaces and capital letters, but no punctuation marks) is a palindrome (use help to see which functions are available for a string). \n"
   ]
  },
  {
   "cell_type": "markdown",
   "metadata": {},
   "source": [
    "### **Exercise 8:**\n",
    "Write a function to find a character with a maximum number of occurences in a string. Return a tuple with that character and the number. You can ignore ties. Only use string's inbuilt functions and the function `max` (use help to see how to use it)."
   ]
  },
  {
   "cell_type": "markdown",
   "metadata": {},
   "source": [
    "### **Exercise 9:**\n",
    "Write a function that return the first N prime numbers using the Sieve of Eratosphenes algorithm\n",
    "\n",
    "https://en.wikipedia.org/wiki/Sieve_of_Eratosthenes"
   ]
  },
  {
   "cell_type": "code",
   "execution_count": 1,
   "metadata": {},
   "outputs": [
    {
     "name": "stdout",
     "output_type": "stream",
     "text": [
      "/home/Arrow/newgitnest/ScientificPython_diploma23\n"
     ]
    }
   ],
   "source": [
    "!pwd"
   ]
  },
  {
   "cell_type": "code",
   "execution_count": null,
   "metadata": {},
   "outputs": [],
   "source": []
  }
 ],
 "metadata": {
  "kernelspec": {
   "display_name": "Python 3 (ipykernel)",
   "language": "python",
   "name": "python3"
  },
  "language_info": {
   "codemirror_mode": {
    "name": "ipython",
    "version": 3
   },
   "file_extension": ".py",
   "mimetype": "text/x-python",
   "name": "python",
   "nbconvert_exporter": "python",
   "pygments_lexer": "ipython3",
   "version": "3.12.0"
  }
 },
 "nbformat": 4,
 "nbformat_minor": 4
}
