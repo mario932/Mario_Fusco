{
 "cells": [
  {
   "cell_type": "markdown",
   "id": "efcf1d95-3418-42e4-9d9f-4ff2c0ab896f",
   "metadata": {},
   "source": [
    "#### **Exercise 1:**\n",
    "\n",
    "Repeat the curve fitting example with the following modifications:\n",
    "\n",
    " - choose some other function\n",
    " - first write the data to a file, then read it (with numpy, for example)\n",
    " - produce the picture that has axes, name and legend"
   ]
  },
  {
   "cell_type": "markdown",
   "id": "47b5c5e4-a1d3-444a-99a8-d5f4f1ffd414",
   "metadata": {},
   "source": [
    "#### **Exercise 2:**\n",
    "\n",
    "Integrate the function `x**2 + 10*np.sin(x)` on the interval `[-10,10]`.\n",
    "Find a way to make a plot like in textbooks where you color the area under the curve that you integrate.\n",
    "Now integrate the same function symbolically using `sympy`, then put borders into it and compare the results."
   ]
  },
  {
   "cell_type": "markdown",
   "id": "85eae3d8-97d7-43cd-bf98-d7ec534d684a",
   "metadata": {},
   "source": [
    "#### **Exercise 3**\n",
    "\n",
    "With the help of documentation find 3 different ways to interpolate data produced from the function \n",
    "`np.cos(-x**2/9.0)`. \n",
    "Create a class called \"My_Interpolation\" with these 3 interpolation methods."
   ]
  },
  {
   "cell_type": "markdown",
   "id": "bdb5d4a2-1fa3-4b13-9ab3-4e9c6fe9ba7a",
   "metadata": {},
   "source": [
    "#### **Exercise 4:**\n",
    "Give students in the `example.csv` file a bonus of 5 for all the courses. Find a way to replace all the values that are now greater than 30 by 30. Save the new data to a file. Make a plot with histograms for every course in the example file."
   ]
  },
  {
   "cell_type": "markdown",
   "id": "e18f100c-31cb-4d60-9f85-e7d82812d520",
   "metadata": {},
   "source": [
    "#### **Exercise 5:**\n",
    "\n",
    " - Read in the `cars.csv` file as a dataframe\n",
    " - Remove the row with the index 3, which contains a quote in the Model column.\n",
    " - Add a new column called Price with the following values: [8000, 6500, 7000, 6800, 7500, 7300, 7000, 9000, 6500, 7800]\n",
    " - Find the average Length of all the vehicles.\n",
    " - Find the median Price of all the vehicles.\n",
    " - Create a new dataframe that only contains the rows where the Price is greater than 7000.\n",
    " - Sort the dataframe in descending order by the Price column.\n"
   ]
  },
  {
   "cell_type": "markdown",
   "id": "e2238019-6281-43e0-aaa6-805a30956733",
   "metadata": {},
   "source": [
    "#### **Exercise 6:**\n",
    " - create a random matrix with numpy\n",
    " - save it to file\n",
    " - read it back with numpy\n",
    " - calculate some statistcs on it with numpy \n",
    " - read the same file with pandas\n",
    " - calculate the same statistics on it with pandas"
   ]
  },
  {
   "cell_type": "code",
   "execution_count": null,
   "id": "27dc3f85-7e2f-48ba-9ff1-693a9244cead",
   "metadata": {},
   "outputs": [],
   "source": []
  }
 ],
 "metadata": {
  "kernelspec": {
   "display_name": "Python [conda env:my_env2]",
   "language": "python",
   "name": "conda-env-my_env2-py"
  },
  "language_info": {
   "codemirror_mode": {
    "name": "ipython",
    "version": 3
   },
   "file_extension": ".py",
   "mimetype": "text/x-python",
   "name": "python",
   "nbconvert_exporter": "python",
   "pygments_lexer": "ipython3",
   "version": "3.10.8"
  }
 },
 "nbformat": 4,
 "nbformat_minor": 5
}
